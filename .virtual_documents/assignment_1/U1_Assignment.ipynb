














# Import pre-defined utilities specific to this notebook.
import u1_utils as u1

# Import additional utilities needed in this notebook.
import matplotlib.pyplot as plt
import numpy as np
import seaborn as sns
import torch
from scipy import signal

# Set default plotting style.
sns.set_theme()

# Setup Jupyter notebook (warning: this may affect all Jupyter notebooks running on the same Jupyter server).
u1.setup_jupyter()

# Check minimum versions.
u1.check_module_versions()












data_iris = u1.load_iris()
data_iris_X, data_iris_y = data_iris.drop(columns='species'), data_iris['species']
data_iris











num_labels = data_iris_y.unique().size
features = ['sepal length', 'sepal width', 'petal length', 'petal width']
sns.pairplot(data_iris, vars=features, hue='species', palette='deep')
plt.show()











data_iris_pca = u1.apply_pca(n_components=2, data=data_iris_X)
u1.plot_points_2d(data=data_iris_pca, targets=data_iris_y, figsize=(14, 7))





u1.set_seed(123)

k_means_clusters = u1.apply_k_means(k=3, data=data_iris)
u1.plot_points_2d(data=data_iris_pca, targets=k_means_clusters, figsize=(14, 7))





u1.set_seed(123)

k_means_clusters = u1.apply_k_means(k=3, data=data_iris_pca)
u1.plot_points_2d(data=data_iris_pca, targets=k_means_clusters, figsize=(14, 7))





u1.set_seed(123)

data_iris_tsne = u1.apply_tsne(n_components=2, data=data_iris_X, perplexity=31)
u1.plot_points_2d(data=data_iris_tsne, targets=data_iris_y, figsize=(14, 7))





u1.set_seed(123)

k_means_clusters = u1.apply_k_means(k=3, data=data_iris)
u1.plot_points_2d(data=data_iris_tsne, targets=k_means_clusters, figsize=(14, 7))





u1.set_seed(123)

k_means_clusters = u1.apply_k_means(k=3, data=data_iris_tsne)
u1.plot_points_2d(data=data_iris_tsne, targets=k_means_clusters, figsize=(14, 7))














el_data = u1.load_electricity()
el_data











# Your code











# Your code

















mnist_data = u1.load_mnist()
mnist_data





u1.set_seed(123)

mnist_data_X, mnist_data_y = mnist_data.drop(columns='digit'), mnist_data['digit']
prewitt_x = np.asarray([
    [-5, 0, 5],
    [-5, 0, 5],
    [-5, 0, 5]
])
prewitt_y = np.asarray([
    [-5, -5, -5],
    [0, 0, 0],
    [5, 5, 5]
])

samples = np.array(mnist_data_X.sample(12)).reshape(12, 28, 28)
outputs = []
for sample in samples:
	gx = signal.convolve2d(sample, prewitt_x, mode='same')
	sigma_gx = torch.sigmoid(torch.from_numpy(gx))
	gy = signal.convolve2d(sample, prewitt_y, mode='same')
	sigma_gy = torch.sigmoid(torch.from_numpy(gy))
	outputs.append({'gx': gx, 'sigma_gx': sigma_gx, 'gy': gy, 'sigma_gy': sigma_gy})






fig, axs = plt.subplots(12, 5, figsize=(14, 10), sharex=True, sharey=True)
for i in axs:
	for j in i:
		j.grid(False)

for i, sample in enumerate(samples):
	axs[i][0].imshow(sample, cmap='gray')
	axs[i][1].imshow(outputs[i]['gx'], cmap='gray')
	axs[i][2].imshow(outputs[i]['sigma_gx'], cmap='gray')
	axs[i][3].imshow(outputs[i]['gy'], cmap='gray')
	axs[i][4].imshow(outputs[i]['sigma_gy'], cmap='gray')

plt.show()





class FNN(torch.nn.Module):
	def __init__(self) -> None:
		super(FNN, self).__init__()
		self.flatten = torch.nn.Flatten()
		self.linear1 = torch.nn.Linear(28*28, 512)
		self.activation1 = torch.nn.ReLU()
		self.linear2 = torch.nn.Linear(512, 512)
		self.activation2 = torch.nn.ReLU()
		self.linear3 = torch.nn.Linear(512, 10)

	def forward(self, x: torch.Tensor):
		x = self.flatten(x)
		x = self.linear1(x)
		x = self.activation1(x)
		x = self.linear2(x)
		x = self.activation2(x)
		x = self.linear3(x)
		return x






class CNN(torch.nn.Module):
	def __init__(self) -> None:
		super().__init__()
		self.conv = torch.nn.Conv2d(1, 32, 3 * 3)
		self.activation1 = torch.nn.ReLU()
		self.max_pooling = torch.nn.MaxPool2d(2 * 2)
		self.linear1 = torch.nn.Linear(28 * 28, 512)
		self.activation2 = torch.nn.ReLU()
		self.linear2 = torch.nn.Linear(512, 10)

	def forward(self, x: torch.Tensor):
		x = self.conv(x)
		x = self.activation1(x)
		x = self.max_pooling(x)
		x = x.view(-1, 32 * 14 * 14)
		x = self.linear1(x)
		x = self.activation2(x)
		x = self.linear2(x)
		return x






mnist_train_data, mnist_test_data = u1.split_data(mnist_data, 0.25)
len(mnist_data), len(mnist_train_data), len(mnist_test_data)





u1.set_seed(123)

tensor_mnist_train_data = torch.utils.data.TensorDataset(
	torch.from_numpy(mnist_train_data.drop(columns='digit').values).reshape(len(mnist_train_data), 1, 28, 28),
	torch.from_numpy(mnist_train_data['digit'].values),
)
tensor_mnist_test_data = torch.utils.data.TensorDataset(
	torch.from_numpy(mnist_test_data.drop(columns='digit').values).reshape(len(mnist_test_data), 1, 28, 28),
	torch.from_numpy(mnist_test_data['digit'].values),
)

loader_mnist_train_data = torch.utils.data.DataLoader(
	dataset=tensor_mnist_train_data,
	batch_size=32,
	shuffle=True,
)
loader_mnist_test_data = torch.utils.data.DataLoader(
	dataset=tensor_mnist_test_data,
	batch_size=32,
	shuffle=False,
)





u1.set_seed(123)
print(torch.cuda.is_available())
target_device = torch.device('cuda')
fnn_model = FNN().to(target_device)
cnn_model = CNN().to(target_device)

fnn_model_optimizer = torch.optim.SGD(fnn_model.parameters(), lr=1e-3)
cnn_model_optimizer = torch.optim.SGD(cnn_model.parameters(), lr=1e-3)

num_epochs = 3

# print('FNN:')
# for epoch in range(num_epochs):
# 	u1.train_network(
# 		model=fnn_model,
# 		data_loader=loader_mnist_train_data,
# 		device=target_device,
# 		optimizer=fnn_model_optimizer,
# 	)
# 	performance = u1.test_network(
# 		model=fnn_model,
# 		data_loader=loader_mnist_train_data,
# 		device=target_device,
# 	)

# 	print(f'Epoch: {str(epoch + 1).zfill(len(str(num_epochs)))} ' +
#           f'/ Train loss: {performance[0]:.4f} / Train accuracy: {performance[1]:.4f}')

# performance = u1.test_network(
# 	model=fnn_model,
# 	data_loader=loader_mnist_test_data,
# 	device=target_device,
# )
# print(f'\nTest loss: {performance[0]:.4f} / Test accuracy: {performance[1]:.4f}')

print('CNN:')
for epoch in range(num_epochs):
	u1.train_network(
		model=cnn_model,
		data_loader=loader_mnist_train_data,
		device=target_device,
		optimizer=cnn_model_optimizer,
	)
	performance = u1.test_network(
		model=cnn_model,
		data_loader=loader_mnist_train_data,
		device=target_device,
	)

	print(f'Epoch: {str(epoch + 1).zfill(len(str(num_epochs)))} ' +
          f'/ Train loss: {performance[0]:.4f} / Train accuracy: {performance[1]:.4f}')

performance = u1.test_network(
	model=cnn_model,
	data_loader=loader_mnist_test_data,
	device=target_device,
)
print(f'\nTest loss: {performance[0]:.4f} / Test accuracy: {performance[1]:.4f}')



